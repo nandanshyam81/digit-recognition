{
 "cells": [
  {
   "cell_type": "markdown",
   "id": "b3300186",
   "metadata": {},
   "source": [
    "# Digit Recognition"
   ]
  },
  {
   "cell_type": "markdown",
   "id": "0689c6ae",
   "metadata": {},
   "source": [
    "impoting all the libraries"
   ]
  },
  {
   "cell_type": "code",
   "execution_count": 15,
   "id": "4877d9b8",
   "metadata": {},
   "outputs": [],
   "source": [
    "import tensorflow as tf\n",
    "from tensorflow import keras\n",
    "import matplotlib.pyplot as plt\n",
    "import numpy as np\n",
    "%matplotlib inline\n"
   ]
  },
  {
   "cell_type": "code",
   "execution_count": null,
   "id": "ec50a6a2",
   "metadata": {},
   "outputs": [],
   "source": [
    "## Downloading data set from mnist reduce it from 3D to 2D"
   ]
  },
  {
   "cell_type": "code",
   "execution_count": 8,
   "id": "452f9361",
   "metadata": {},
   "outputs": [],
   "source": [
    "(x_train,y_train),(x_test,y_test)=keras.datasets.mnist.load_data()\n",
    "x_train=x_train/255\n",
    "x_test=x_test/255\n",
    "x_train2d=x_train.reshape(len(x_train),28*28)\n",
    "x_test2d=x_test.reshape(len(x_test),28*28)"
   ]
  },
  {
   "cell_type": "markdown",
   "id": "83b059f7",
   "metadata": {},
   "source": [
    "\n",
    "## making model"
   ]
  },
  {
   "cell_type": "code",
   "execution_count": 9,
   "id": "796bb91b",
   "metadata": {},
   "outputs": [
    {
     "name": "stdout",
     "output_type": "stream",
     "text": [
      "Epoch 1/5\n",
      "1875/1875 [==============================] - 3s 1ms/step - loss: 0.4688 - accuracy: 0.8777\n",
      "Epoch 2/5\n",
      "1875/1875 [==============================] - 3s 1ms/step - loss: 0.3041 - accuracy: 0.9150\n",
      "Epoch 3/5\n",
      "1875/1875 [==============================] - 3s 1ms/step - loss: 0.2835 - accuracy: 0.9206\n",
      "Epoch 4/5\n",
      "1875/1875 [==============================] - 3s 1ms/step - loss: 0.2730 - accuracy: 0.9235\n",
      "Epoch 5/5\n",
      "1875/1875 [==============================] - 2s 1ms/step - loss: 0.2663 - accuracy: 0.9259\n"
     ]
    },
    {
     "data": {
      "text/plain": [
       "<keras.callbacks.History at 0x1b9ebb4cf10>"
      ]
     },
     "execution_count": 9,
     "metadata": {},
     "output_type": "execute_result"
    }
   ],
   "source": [
    "from keras.models import Sequential\n",
    "from keras.layers.core import Dense\n",
    "model=Sequential()\n",
    "model.add(Dense(10,input_shape=(784,),activation='sigmoid'))\n",
    "model.compile(optimizer='adam',loss='sparse_categorical_crossentropy',metrics=['accuracy'])\n",
    "model.fit(x_train2d,y_train,epochs=5)\n"
   ]
  },
  {
   "cell_type": "code",
   "execution_count": 10,
   "id": "9f440acb",
   "metadata": {},
   "outputs": [
    {
     "name": "stdout",
     "output_type": "stream",
     "text": [
      "313/313 [==============================] - 1s 2ms/step - loss: 0.2632 - accuracy: 0.9267\n"
     ]
    },
    {
     "data": {
      "text/plain": [
       "<keras.callbacks.History at 0x1b9ceab10a0>"
      ]
     },
     "execution_count": 10,
     "metadata": {},
     "output_type": "execute_result"
    }
   ],
   "source": [
    "model.fit(x_test2d,y_test)"
   ]
  },
  {
   "cell_type": "code",
   "execution_count": 5,
   "id": "9799c875",
   "metadata": {},
   "outputs": [
    {
     "name": "stdout",
     "output_type": "stream",
     "text": [
      "313/313 [==============================] - 0s 953us/step\n"
     ]
    }
   ],
   "source": [
    "y_predicted=model.predict(x_test2d)"
   ]
  },
  {
   "cell_type": "markdown",
   "id": "7a53704c",
   "metadata": {},
   "source": [
    "##    Testing Case1:"
   ]
  },
  {
   "cell_type": "code",
   "execution_count": 13,
   "id": "74aa852f",
   "metadata": {
    "scrolled": true
   },
   "outputs": [
    {
     "data": {
      "text/plain": [
       "<matplotlib.image.AxesImage at 0x1b9c494d1c0>"
      ]
     },
     "execution_count": 13,
     "metadata": {},
     "output_type": "execute_result"
    },
    {
     "data": {
      "image/png": "[encoded data removed]",
      "text/plain": [
       "<Figure size 288x288 with 1 Axes>"
      ]
     },
     "metadata": {
      "needs_background": "light"
     },
     "output_type": "display_data"
    }
   ],
   "source": [
    "plt.matshow(x_test[0])"
   ]
  },
  {
   "cell_type": "markdown",
   "id": "800ece75",
   "metadata": {},
   "source": [
    "## Model result"
   ]
  },
  {
   "cell_type": "code",
   "execution_count": 16,
   "id": "24e94ac0",
   "metadata": {},
   "outputs": [
    {
     "data": {
      "text/plain": [
       "7"
      ]
     },
     "execution_count": 16,
     "metadata": {},
     "output_type": "execute_result"
    }
   ],
   "source": [
    "np.argmax(y_predicted[0])"
   ]
  },
  {
   "cell_type": "markdown",
   "id": "053b6577",
   "metadata": {},
   "source": [
    "## Testing case2:"
   ]
  },
  {
   "cell_type": "code",
   "execution_count": 19,
   "id": "65e3b2ac",
   "metadata": {},
   "outputs": [
    {
     "data": {
      "text/plain": [
       "<matplotlib.image.AxesImage at 0x1b9c5139880>"
      ]
     },
     "execution_count": 19,
     "metadata": {},
     "output_type": "execute_result"
    },
    {
     "data": {
      "image/png": "[encoded data removed]",
      "text/plain": [
       "<Figure size 288x288 with 1 Axes>"
      ]
     },
     "metadata": {
      "needs_background": "light"
     },
     "output_type": "display_data"
    }
   ],
   "source": [
    "plt.matshow(x_test[3006])"
   ]
  },
  {
   "cell_type": "code",
   "execution_count": 20,
   "id": "c950aea0",
   "metadata": {},
   "outputs": [
    {
     "data": {
      "text/plain": [
       "9"
      ]
     },
     "execution_count": 20,
     "metadata": {},
     "output_type": "execute_result"
    }
   ],
   "source": [
    "np.argmax(y_predicted[3006])"
   ]
  },
  {
   "cell_type": "markdown",
   "id": "0437ecc2",
   "metadata": {},
   "source": [
    "## testing Case3:"
   ]
  },
  {
   "cell_type": "code",
   "execution_count": 21,
   "id": "0264bd45",
   "metadata": {},
   "outputs": [
    {
     "data": {
      "text/plain": [
       "<matplotlib.image.AxesImage at 0x1b9c519e8b0>"
      ]
     },
     "execution_count": 21,
     "metadata": {},
     "output_type": "execute_result"
    },
    {
     "data": {
      "image/png": "[encoded data removed]",
      "text/plain": [
       "<Figure size 288x288 with 1 Axes>"
      ]
     },
     "metadata": {
      "needs_background": "light"
     },
     "output_type": "display_data"
    }
   ],
   "source": [
    "plt.matshow(x_test[9009])"
   ]
  },
  {
   "cell_type": "code",
   "execution_count": 22,
   "id": "d0c594fa",
   "metadata": {},
   "outputs": [
    {
     "data": {
      "text/plain": [
       "2"
      ]
     },
     "execution_count": 22,
     "metadata": {},
     "output_type": "execute_result"
    }
   ],
   "source": [
    "np.argmax(y_predicted[9009])"
   ]
  },
  {
   "cell_type": "markdown",
   "id": "264afaa7",
   "metadata": {},
   "source": [
    "## above output are similar"
   ]
  },
  {
   "cell_type": "code",
   "execution_count": null,
   "id": "3cb449b3",
   "metadata": {},
   "outputs": [],
   "source": []
  }
 ],
 "metadata": {
  "kernelspec": {
   "display_name": "Python 3 (ipykernel)",
   "language": "python",
   "name": "python3"
  },
  "language_info": {
   "codemirror_mode": {
    "name": "ipython",
    "version": 3
   },
   "file_extension": ".py",
   "mimetype": "text/x-python",
   "name": "python",
   "nbconvert_exporter": "python",
   "pygments_lexer": "ipython3",
   "version": "3.9.7"
  }
 },
 "nbformat": 4,
 "nbformat_minor": 5
}
